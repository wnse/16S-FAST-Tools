{
 "cells": [
  {
   "cell_type": "code",
   "execution_count": 146,
   "metadata": {},
   "outputs": [
    {
     "name": "stdout",
     "output_type": "stream",
     "text": [
      "Overwriting script/get_consensus_seq_from_mothur.py\n"
     ]
    }
   ],
   "source": [
    "%%writefile script/get_consensus_seq_from_mothur.py\n",
    "import argparse\n",
    "import pandas as pd\n",
    "from Bio import SeqIO\n",
    "\n",
    "def get_consensus_seq_from_mothur(taxfile, fafile):\n",
    "    df = pd.read_csv(taxfile, sep='\\t', header=None)\n",
    "    df.columns=['ID','Tax']\n",
    "    df['umiID'] = df['ID'].str.extract(r'(\\S+)_\\d+')\n",
    "    df['Tax'] = df['Tax'].replace('\\(\\d+\\)','',regex=True)\n",
    "    \n",
    "    seq_len = {}\n",
    "    for record in SeqIO.parse(fafile,'fasta'):\n",
    "        seq_len[str(record.id)] = len(record.seq)\n",
    "    df_fa_len = pd.DataFrame.from_dict(seq_len,orient='index',\n",
    "                                       columns=(['Seq_Len']))\n",
    "    df = pd.merge(df,df_fa_len,left_on='ID',right_index=True)\n",
    "    \n",
    "    consensus_umi = {}\n",
    "    unconsensus_umi = {}\n",
    "    for i in df[['umiID','Tax']].to_dict('split')['data']:\n",
    "        consensus_umi[i[0]] = consensus_umi.get(i[0],[])\n",
    "        consensus_umi[i[0]].append(i[1])\n",
    "    for i,v in consensus_umi.items():\n",
    "        if len(set(v)) > 1:\n",
    "            unconsensus_umi[i] = v\n",
    "    for i,v in unconsensus_umi.items():\n",
    "        del consensus_umi[i]\n",
    "    df_unconsensus = df.set_index('umiID').loc[unconsensus_umi.keys()]\n",
    "    df_unconsensus = df_unconsensus[['ID','Seq_Len','Tax']]\n",
    "    df_unconsensus = df_unconsensus.sort_values(by='ID')\n",
    "    df_consensus = df[df['umiID'].isin(consensus_umi.keys())].groupby(\n",
    "        ['umiID']).apply(lambda t: t[t.Seq_Len==t.Seq_Len.max()])\n",
    "    df_consensus = df_consensus[['ID','Seq_Len','Tax']].set_index('ID')\n",
    "\n",
    "    return df_consensus, df_unconsensus\n",
    "\n",
    "if __name__ == '__main__':\n",
    "    parser = argparse.ArgumentParser()\n",
    "    parser.add_argument('-tax','--taxonomy',required=True,\n",
    "                       help='mothur taxonomy file')\n",
    "    parser.add_argument('-fa','--fasta',required=True,\n",
    "                       help='fasta file used to taxonomy')\n",
    "    args = parser.parse_args()\n",
    "    df1, df2 = get_consensus_seq_from_mothur(args.taxonomy, args.fasta)\n",
    "    df1.to_csv(args.taxonomy+'.consensus.csv',sep='\\t')\n",
    "    df2.to_csv(args.taxonomy+'.unconsensus.csv',sep='\\t')"
   ]
  },
  {
   "cell_type": "code",
   "execution_count": 7,
   "metadata": {},
   "outputs": [
    {
     "name": "stdout",
     "output_type": "stream",
     "text": [
      "Overwriting script/submit_cdhit.py\n"
     ]
    }
   ],
   "source": [
    "%%writefile script/submit_cdhit.py\n",
    "import argparse\n",
    "import os\n",
    "import sys\n",
    "import logging\n",
    "\n",
    "def submit_cdhit(infa, outfa, identity, path, threads=1):\n",
    "    cdhit = path\n",
    "    str_join=' '\n",
    "    cmd = str_join.join([cdhit, '-i', infa, '-o', outfa, '-c', str(identity), '-T', str(threads)])\n",
    "    logging.info(' %s'%cmd)\n",
    "    status=os.system(cmd)\n",
    "    if status==0:\n",
    "        logging.info(' done')\n",
    "    else:\n",
    "        logging.info(' exit')\n",
    "        \n",
    "if __name__ == '__main__':\n",
    "    parser = argparse.ArgumentParser(description=\\\n",
    "                                     'this is for cluster of seq \\\n",
    "                                     using cd-hit')\n",
    "    parser.add_argument('-i','--infasta',\\\n",
    "                        help='input fasta',required=True)\n",
    "    parser.add_argument('-o','--outfasta',\\\n",
    "                        help='output fastq',required=True)\n",
    "    parser.add_argument('-t','--threads',\n",
    "                        help='threads for computing.',\n",
    "                        default=1,type=int)\n",
    "    parser.add_argument('-c','--identity',\n",
    "                        help='sequence identity threshold',\n",
    "                        default=1,type=float)\n",
    "    parser.add_argument('-path','--path',\\\n",
    "                        help='cd-hit absolute path',\n",
    "                        default='/root/anaconda3/bin/cd-hit')\n",
    "    args = parser.parse_args()\n",
    "    logging.basicConfig(format='%(asctime)s %(levelname)s:%(message)s',level=logging.INFO)\n",
    "    submit_cdhit(args.infasta, args.outfasta, args.identity, args.path, args.threads)"
   ]
  }
 ],
 "metadata": {
  "kernelspec": {
   "display_name": "Python 3",
   "language": "python",
   "name": "python3"
  },
  "language_info": {
   "codemirror_mode": {
    "name": "ipython",
    "version": 3
   },
   "file_extension": ".py",
   "mimetype": "text/x-python",
   "name": "python",
   "nbconvert_exporter": "python",
   "pygments_lexer": "ipython3",
   "version": "3.7.3"
  }
 },
 "nbformat": 4,
 "nbformat_minor": 4
}
